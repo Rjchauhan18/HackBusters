{
 "cells": [
  {
   "cell_type": "code",
   "execution_count": 5,
   "metadata": {},
   "outputs": [],
   "source": [
    "import yfinance as yf\n",
    "import pandas as pd\n",
    "from sklearn.tree import DecisionTreeRegressor\n",
    "from sklearn.metrics import mean_squared_error\n",
    "import matplotlib.pyplot as plt\n",
    "import joblib\n",
    "import time\n",
    "from IPython.display import clear_output"
   ]
  },
  {
   "cell_type": "code",
   "execution_count": 6,
   "metadata": {},
   "outputs": [
    {
     "data": {
      "text/html": [
       "<div>\n",
       "<style scoped>\n",
       "    .dataframe tbody tr th:only-of-type {\n",
       "        vertical-align: middle;\n",
       "    }\n",
       "\n",
       "    .dataframe tbody tr th {\n",
       "        vertical-align: top;\n",
       "    }\n",
       "\n",
       "    .dataframe thead th {\n",
       "        text-align: right;\n",
       "    }\n",
       "</style>\n",
       "<table border=\"1\" class=\"dataframe\">\n",
       "  <thead>\n",
       "    <tr style=\"text-align: right;\">\n",
       "      <th></th>\n",
       "      <th>Open</th>\n",
       "      <th>High</th>\n",
       "      <th>Low</th>\n",
       "      <th>Close</th>\n",
       "    </tr>\n",
       "    <tr>\n",
       "      <th>Datetime</th>\n",
       "      <th></th>\n",
       "      <th></th>\n",
       "      <th></th>\n",
       "      <th></th>\n",
       "    </tr>\n",
       "  </thead>\n",
       "  <tbody>\n",
       "    <tr>\n",
       "      <th>2024-04-09 09:15:00+05:30</th>\n",
       "      <td>22765.099609</td>\n",
       "      <td>22765.099609</td>\n",
       "      <td>22714.650391</td>\n",
       "      <td>22726.550781</td>\n",
       "    </tr>\n",
       "    <tr>\n",
       "      <th>2024-04-09 09:16:00+05:30</th>\n",
       "      <td>22727.250000</td>\n",
       "      <td>22727.949219</td>\n",
       "      <td>22721.250000</td>\n",
       "      <td>22722.550781</td>\n",
       "    </tr>\n",
       "    <tr>\n",
       "      <th>2024-04-09 09:17:00+05:30</th>\n",
       "      <td>22721.849609</td>\n",
       "      <td>22723.150391</td>\n",
       "      <td>22710.800781</td>\n",
       "      <td>22713.300781</td>\n",
       "    </tr>\n",
       "    <tr>\n",
       "      <th>2024-04-09 09:18:00+05:30</th>\n",
       "      <td>22715.050781</td>\n",
       "      <td>22720.199219</td>\n",
       "      <td>22707.199219</td>\n",
       "      <td>22707.750000</td>\n",
       "    </tr>\n",
       "    <tr>\n",
       "      <th>2024-04-09 09:19:00+05:30</th>\n",
       "      <td>22708.900391</td>\n",
       "      <td>22712.699219</td>\n",
       "      <td>22706.650391</td>\n",
       "      <td>22708.150391</td>\n",
       "    </tr>\n",
       "    <tr>\n",
       "      <th>...</th>\n",
       "      <td>...</td>\n",
       "      <td>...</td>\n",
       "      <td>...</td>\n",
       "      <td>...</td>\n",
       "    </tr>\n",
       "    <tr>\n",
       "      <th>2024-04-19 15:25:00+05:30</th>\n",
       "      <td>22141.150391</td>\n",
       "      <td>22142.400391</td>\n",
       "      <td>22135.599609</td>\n",
       "      <td>22135.599609</td>\n",
       "    </tr>\n",
       "    <tr>\n",
       "      <th>2024-04-19 15:26:00+05:30</th>\n",
       "      <td>22134.949219</td>\n",
       "      <td>22135.750000</td>\n",
       "      <td>22129.050781</td>\n",
       "      <td>22130.500000</td>\n",
       "    </tr>\n",
       "    <tr>\n",
       "      <th>2024-04-19 15:27:00+05:30</th>\n",
       "      <td>22130.050781</td>\n",
       "      <td>22136.250000</td>\n",
       "      <td>22129.849609</td>\n",
       "      <td>22134.449219</td>\n",
       "    </tr>\n",
       "    <tr>\n",
       "      <th>2024-04-19 15:28:00+05:30</th>\n",
       "      <td>22134.250000</td>\n",
       "      <td>22145.449219</td>\n",
       "      <td>22133.000000</td>\n",
       "      <td>22145.449219</td>\n",
       "    </tr>\n",
       "    <tr>\n",
       "      <th>2024-04-19 15:29:00+05:30</th>\n",
       "      <td>22139.599609</td>\n",
       "      <td>22154.949219</td>\n",
       "      <td>22139.599609</td>\n",
       "      <td>22149.099609</td>\n",
       "    </tr>\n",
       "  </tbody>\n",
       "</table>\n",
       "<p>2625 rows × 4 columns</p>\n",
       "</div>"
      ],
      "text/plain": [
       "                                   Open          High           Low  \\\n",
       "Datetime                                                              \n",
       "2024-04-09 09:15:00+05:30  22765.099609  22765.099609  22714.650391   \n",
       "2024-04-09 09:16:00+05:30  22727.250000  22727.949219  22721.250000   \n",
       "2024-04-09 09:17:00+05:30  22721.849609  22723.150391  22710.800781   \n",
       "2024-04-09 09:18:00+05:30  22715.050781  22720.199219  22707.199219   \n",
       "2024-04-09 09:19:00+05:30  22708.900391  22712.699219  22706.650391   \n",
       "...                                 ...           ...           ...   \n",
       "2024-04-19 15:25:00+05:30  22141.150391  22142.400391  22135.599609   \n",
       "2024-04-19 15:26:00+05:30  22134.949219  22135.750000  22129.050781   \n",
       "2024-04-19 15:27:00+05:30  22130.050781  22136.250000  22129.849609   \n",
       "2024-04-19 15:28:00+05:30  22134.250000  22145.449219  22133.000000   \n",
       "2024-04-19 15:29:00+05:30  22139.599609  22154.949219  22139.599609   \n",
       "\n",
       "                                  Close  \n",
       "Datetime                                 \n",
       "2024-04-09 09:15:00+05:30  22726.550781  \n",
       "2024-04-09 09:16:00+05:30  22722.550781  \n",
       "2024-04-09 09:17:00+05:30  22713.300781  \n",
       "2024-04-09 09:18:00+05:30  22707.750000  \n",
       "2024-04-09 09:19:00+05:30  22708.150391  \n",
       "...                                 ...  \n",
       "2024-04-19 15:25:00+05:30  22135.599609  \n",
       "2024-04-19 15:26:00+05:30  22130.500000  \n",
       "2024-04-19 15:27:00+05:30  22134.449219  \n",
       "2024-04-19 15:28:00+05:30  22145.449219  \n",
       "2024-04-19 15:29:00+05:30  22149.099609  \n",
       "\n",
       "[2625 rows x 4 columns]"
      ]
     },
     "execution_count": 6,
     "metadata": {},
     "output_type": "execute_result"
    }
   ],
   "source": [
    "symbol = \"^NSEI\"\n",
    "ticker = yf.Ticker(symbol)\n",
    "data = ticker.history(interval=\"1m\", period=\"7d\")\n",
    "data.drop(columns=['Volume'\t,'Dividends','Stock Splits'],inplace=True)\n",
    "data"
   ]
  },
  {
   "cell_type": "code",
   "execution_count": 7,
   "metadata": {},
   "outputs": [
    {
     "data": {
      "text/html": [
       "<style>#sk-container-id-2 {color: black;}#sk-container-id-2 pre{padding: 0;}#sk-container-id-2 div.sk-toggleable {background-color: white;}#sk-container-id-2 label.sk-toggleable__label {cursor: pointer;display: block;width: 100%;margin-bottom: 0;padding: 0.3em;box-sizing: border-box;text-align: center;}#sk-container-id-2 label.sk-toggleable__label-arrow:before {content: \"▸\";float: left;margin-right: 0.25em;color: #696969;}#sk-container-id-2 label.sk-toggleable__label-arrow:hover:before {color: black;}#sk-container-id-2 div.sk-estimator:hover label.sk-toggleable__label-arrow:before {color: black;}#sk-container-id-2 div.sk-toggleable__content {max-height: 0;max-width: 0;overflow: hidden;text-align: left;background-color: #f0f8ff;}#sk-container-id-2 div.sk-toggleable__content pre {margin: 0.2em;color: black;border-radius: 0.25em;background-color: #f0f8ff;}#sk-container-id-2 input.sk-toggleable__control:checked~div.sk-toggleable__content {max-height: 200px;max-width: 100%;overflow: auto;}#sk-container-id-2 input.sk-toggleable__control:checked~label.sk-toggleable__label-arrow:before {content: \"▾\";}#sk-container-id-2 div.sk-estimator input.sk-toggleable__control:checked~label.sk-toggleable__label {background-color: #d4ebff;}#sk-container-id-2 div.sk-label input.sk-toggleable__control:checked~label.sk-toggleable__label {background-color: #d4ebff;}#sk-container-id-2 input.sk-hidden--visually {border: 0;clip: rect(1px 1px 1px 1px);clip: rect(1px, 1px, 1px, 1px);height: 1px;margin: -1px;overflow: hidden;padding: 0;position: absolute;width: 1px;}#sk-container-id-2 div.sk-estimator {font-family: monospace;background-color: #f0f8ff;border: 1px dotted black;border-radius: 0.25em;box-sizing: border-box;margin-bottom: 0.5em;}#sk-container-id-2 div.sk-estimator:hover {background-color: #d4ebff;}#sk-container-id-2 div.sk-parallel-item::after {content: \"\";width: 100%;border-bottom: 1px solid gray;flex-grow: 1;}#sk-container-id-2 div.sk-label:hover label.sk-toggleable__label {background-color: #d4ebff;}#sk-container-id-2 div.sk-serial::before {content: \"\";position: absolute;border-left: 1px solid gray;box-sizing: border-box;top: 0;bottom: 0;left: 50%;z-index: 0;}#sk-container-id-2 div.sk-serial {display: flex;flex-direction: column;align-items: center;background-color: white;padding-right: 0.2em;padding-left: 0.2em;position: relative;}#sk-container-id-2 div.sk-item {position: relative;z-index: 1;}#sk-container-id-2 div.sk-parallel {display: flex;align-items: stretch;justify-content: center;background-color: white;position: relative;}#sk-container-id-2 div.sk-item::before, #sk-container-id-2 div.sk-parallel-item::before {content: \"\";position: absolute;border-left: 1px solid gray;box-sizing: border-box;top: 0;bottom: 0;left: 50%;z-index: -1;}#sk-container-id-2 div.sk-parallel-item {display: flex;flex-direction: column;z-index: 1;position: relative;background-color: white;}#sk-container-id-2 div.sk-parallel-item:first-child::after {align-self: flex-end;width: 50%;}#sk-container-id-2 div.sk-parallel-item:last-child::after {align-self: flex-start;width: 50%;}#sk-container-id-2 div.sk-parallel-item:only-child::after {width: 0;}#sk-container-id-2 div.sk-dashed-wrapped {border: 1px dashed gray;margin: 0 0.4em 0.5em 0.4em;box-sizing: border-box;padding-bottom: 0.4em;background-color: white;}#sk-container-id-2 div.sk-label label {font-family: monospace;font-weight: bold;display: inline-block;line-height: 1.2em;}#sk-container-id-2 div.sk-label-container {text-align: center;}#sk-container-id-2 div.sk-container {/* jupyter's `normalize.less` sets `[hidden] { display: none; }` but bootstrap.min.css set `[hidden] { display: none !important; }` so we also need the `!important` here to be able to override the default hidden behavior on the sphinx rendered scikit-learn.org. See: https://github.com/scikit-learn/scikit-learn/issues/21755 */display: inline-block !important;position: relative;}#sk-container-id-2 div.sk-text-repr-fallback {display: none;}</style><div id=\"sk-container-id-2\" class=\"sk-top-container\"><div class=\"sk-text-repr-fallback\"><pre>DecisionTreeRegressor(random_state=42)</pre><b>In a Jupyter environment, please rerun this cell to show the HTML representation or trust the notebook. <br />On GitHub, the HTML representation is unable to render, please try loading this page with nbviewer.org.</b></div><div class=\"sk-container\" hidden><div class=\"sk-item\"><div class=\"sk-estimator sk-toggleable\"><input class=\"sk-toggleable__control sk-hidden--visually\" id=\"sk-estimator-id-2\" type=\"checkbox\" checked><label for=\"sk-estimator-id-2\" class=\"sk-toggleable__label sk-toggleable__label-arrow\">DecisionTreeRegressor</label><div class=\"sk-toggleable__content\"><pre>DecisionTreeRegressor(random_state=42)</pre></div></div></div></div></div>"
      ],
      "text/plain": [
       "DecisionTreeRegressor(random_state=42)"
      ]
     },
     "execution_count": 7,
     "metadata": {},
     "output_type": "execute_result"
    }
   ],
   "source": [
    "# Prepare data for training\n",
    "X = data[['Open', 'High', 'Low', 'Close']]\n",
    "y = data['Close'].shift(-1)  # Predicting closing price of the next minute\n",
    "\n",
    "# Remove rows with NaN target (last row)\n",
    "X = X[:-1]\n",
    "y = y[:-1]\n",
    "\n",
    "# Train Decision Tree model\n",
    "model = DecisionTreeRegressor(random_state=42)\n",
    "model.fit(X, y)"
   ]
  },
  {
   "cell_type": "code",
   "execution_count": 8,
   "metadata": {},
   "outputs": [
    {
     "data": {
      "text/plain": [
       "['../model_pkl_files/decision_tree_model.pkl']"
      ]
     },
     "execution_count": 8,
     "metadata": {},
     "output_type": "execute_result"
    }
   ],
   "source": [
    "# Save the model as a .pkl file\n",
    "joblib.dump(model, '../model_pkl_files/decision_tree_model.pkl')"
   ]
  }
 ],
 "metadata": {
  "kernelspec": {
   "display_name": "venv",
   "language": "python",
   "name": "python3"
  },
  "language_info": {
   "codemirror_mode": {
    "name": "ipython",
    "version": 3
   },
   "file_extension": ".py",
   "mimetype": "text/x-python",
   "name": "python",
   "nbconvert_exporter": "python",
   "pygments_lexer": "ipython3",
   "version": "3.10.12"
  }
 },
 "nbformat": 4,
 "nbformat_minor": 2
}
